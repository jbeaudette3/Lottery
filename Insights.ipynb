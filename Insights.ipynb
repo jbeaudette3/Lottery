{
  "nbformat": 4,
  "nbformat_minor": 0,
  "metadata": {
    "colab": {
      "provenance": []
    },
    "kernelspec": {
      "name": "python3",
      "display_name": "Python 3"
    },
    "language_info": {
      "name": "python"
    }
  },
  "cells": [
    {
      "cell_type": "code",
      "execution_count": 1,
      "metadata": {
        "id": "R1ok4MehF0ze"
      },
      "outputs": [],
      "source": [
        "from collections import Counter\n",
        "from datetime import datetime\n",
        "from matplotlib import pyplot as plt\n",
        "import pandas as pd\n",
        "import seaborn as sns"
      ]
    },
    {
      "cell_type": "code",
      "source": [
        "# functions\n",
        "\n",
        "def get_nums(my_df, n = 5, top = True):\n",
        "  \"\"\"\n",
        "  : input dataframe filtered how you want\n",
        "  : returns dictionary or main numbers\n",
        "  \"\"\"\n",
        "  tmp_num_list = []\n",
        "  for i in my_df['winning_numbers'].str.split():\n",
        "    for j in i:\n",
        "      tmp_num_list.append(j)\n",
        "\n",
        "  num_dict = dict(Counter(tmp_num_list))\n",
        "\n",
        "  tmp_dict = dict(sorted(num_dict.items()\\\n",
        "                        ,key = lambda x:x[1]\\\n",
        "                        ,reverse = top))\n",
        "\n",
        "  return list(tmp_dict.items())[:n]\n",
        "\n",
        "\n",
        "def get_pb(my_df, n = 5, top = True):\n",
        "  \"\"\"\n",
        "  : input dataframe filtered how you want\n",
        "  : returns dictionary of powerball numbers\n",
        "  \"\"\"\n",
        "  pb_nums = my_df['mega_ball']\n",
        "\n",
        "  pb_dict = dict(Counter(pb_nums))\n",
        "\n",
        "  tmp_dict = dict(sorted(pb_dict.items()\\\n",
        "                         ,key = lambda x:x[1]\\\n",
        "                         ,reverse = top))\n",
        "\n",
        "  return list(tmp_dict.items())[:n]"
      ],
      "metadata": {
        "id": "ya_WYmm5F2kv"
      },
      "execution_count": 2,
      "outputs": []
    },
    {
      "cell_type": "code",
      "source": [
        "# using SQL on json url to get more than 1000 results (if results are limited)\n",
        "url = 'https://data.ny.gov/resource/5xaw-6ayf.json?$limit=9999'\n",
        "df = pd.read_json(url)\n",
        "\n",
        "# cleaning up dates\n",
        "# a: new/ clean column\n",
        "df['date'] = pd.to_datetime(df['draw_date'], format='%Y-%m-%d %H:%M:%S')\n",
        "df['DOW'] = df['date'].dt.day_name()\n",
        "df['year'] = df['date'].dt.year\n",
        "df['month'] = df['date'].dt.month\n",
        "\n",
        "# b: remove old date column\n",
        "df = df.drop(columns=['draw_date'])\n",
        "\n",
        "# c: reindex/ re-arrange columns\n",
        "col = df.pop('date')\n",
        "df.insert(0, col.name, col)\n",
        "col = df.pop('year')\n",
        "df.insert(1, col.name, col)\n",
        "col = df.pop('month')\n",
        "df.insert(2, col.name, col)\n",
        "col = df.pop('DOW')\n",
        "df.insert(3, col.name, col)\n",
        "\n",
        "# d: separate out each winning number\n",
        "df[['num1','num2','num3','num4','num5']] = df['winning_numbers'].str.split(' ', expand = True)"
      ],
      "metadata": {
        "id": "_jezq1MQF4IL"
      },
      "execution_count": 3,
      "outputs": []
    },
    {
      "cell_type": "code",
      "source": [
        "df_print = df\n",
        "\n",
        "print('-----Numbers-----')\n",
        "for i in get_nums(df_print, n=10):\n",
        "  print(i)\n",
        "\n",
        "print('\\n-----Power Ball-----')\n",
        "for i in get_pb(df_print, n=10):\n",
        "  print(i)"
      ],
      "metadata": {
        "colab": {
          "base_uri": "https://localhost:8080/"
        },
        "id": "Ipqh3n_iF8hA",
        "outputId": "14afb016-6f7d-4324-fc1e-15adc8903698"
      },
      "execution_count": 6,
      "outputs": [
        {
          "output_type": "stream",
          "name": "stdout",
          "text": [
            "-----Numbers-----\n",
            "('31', 219)\n",
            "('10', 215)\n",
            "('20', 212)\n",
            "('17', 210)\n",
            "('14', 210)\n",
            "('46', 208)\n",
            "('29', 202)\n",
            "('02', 202)\n",
            "('51', 200)\n",
            "('39', 197)\n",
            "\n",
            "-----Power Ball-----\n",
            "(7, 89)\n",
            "(10, 88)\n",
            "(9, 87)\n",
            "(13, 86)\n",
            "(4, 85)\n",
            "(11, 85)\n",
            "(15, 85)\n",
            "(1, 81)\n",
            "(3, 81)\n",
            "(6, 79)\n"
          ]
        }
      ]
    },
    {
      "cell_type": "code",
      "source": [
        "df_print = df.query(\"DOW == 'Friday' and year == 2023\")\n",
        "\n",
        "print('-----Numbers-----')\n",
        "for i in get_nums(df_print, n=10):\n",
        "  print(i)\n",
        "\n",
        "print('\\n-----Power Ball-----')\n",
        "for i in get_pb(df_print, n=10):\n",
        "  print(i)"
      ],
      "metadata": {
        "colab": {
          "base_uri": "https://localhost:8080/"
        },
        "id": "GGKKXQ7mGRzz",
        "outputId": "13db7d0c-b592-4ff0-ee2a-92842a93fe43"
      },
      "execution_count": 7,
      "outputs": [
        {
          "output_type": "stream",
          "name": "stdout",
          "text": [
            "-----Numbers-----\n",
            "('66', 9)\n",
            "('10', 8)\n",
            "('29', 8)\n",
            "('20', 7)\n",
            "('12', 7)\n",
            "('47', 6)\n",
            "('57', 6)\n",
            "('46', 6)\n",
            "('70', 5)\n",
            "('26', 5)\n",
            "\n",
            "-----Power Ball-----\n",
            "(13, 4)\n",
            "(22, 4)\n",
            "(11, 4)\n",
            "(25, 4)\n",
            "(12, 3)\n",
            "(1, 3)\n",
            "(17, 3)\n",
            "(18, 3)\n",
            "(15, 3)\n",
            "(14, 3)\n"
          ]
        }
      ]
    },
    {
      "cell_type": "code",
      "source": [
        "df_print = df.query(\"DOW == 'Friday'\")\n",
        "\n",
        "print('-----Numbers-----')\n",
        "for i in get_nums(df_print, n=10):\n",
        "  print(i)\n",
        "\n",
        "print('\\n-----Power Ball-----')\n",
        "for i in get_pb(df_print, n=10):\n",
        "  print(i)"
      ],
      "metadata": {
        "colab": {
          "base_uri": "https://localhost:8080/"
        },
        "id": "AsywHFJLGVM8",
        "outputId": "ee93d950-0d4b-4b38-b2b3-a0571fd3b6a8"
      },
      "execution_count": 8,
      "outputs": [
        {
          "output_type": "stream",
          "name": "stdout",
          "text": [
            "-----Numbers-----\n",
            "('46', 121)\n",
            "('17', 115)\n",
            "('31', 113)\n",
            "('14', 111)\n",
            "('10', 109)\n",
            "('20', 108)\n",
            "('18', 105)\n",
            "('28', 104)\n",
            "('04', 103)\n",
            "('40', 102)\n",
            "\n",
            "-----Power Ball-----\n",
            "(10, 51)\n",
            "(3, 46)\n",
            "(13, 45)\n",
            "(8, 45)\n",
            "(7, 44)\n",
            "(11, 40)\n",
            "(15, 40)\n",
            "(14, 40)\n",
            "(1, 39)\n",
            "(4, 39)\n"
          ]
        }
      ]
    },
    {
      "cell_type": "code",
      "source": [
        "df_print = df.query(\"DOW == 'Tuesday'\")\n",
        "\n",
        "print('-----Numbers-----')\n",
        "for i in get_nums(df_print, n=10):\n",
        "  print(i)\n",
        "\n",
        "print('\\n-----Power Ball-----')\n",
        "for i in get_pb(df_print, n=10):\n",
        "  print(i)"
      ],
      "metadata": {
        "colab": {
          "base_uri": "https://localhost:8080/"
        },
        "id": "eKLFWzGpGZXL",
        "outputId": "b4ee37af-8116-4f0b-8371-302158e00168"
      },
      "execution_count": 9,
      "outputs": [
        {
          "output_type": "stream",
          "name": "stdout",
          "text": [
            "-----Numbers-----\n",
            "('02', 116)\n",
            "('39', 109)\n",
            "('29', 107)\n",
            "('07', 106)\n",
            "('31', 106)\n",
            "('10', 106)\n",
            "('15', 106)\n",
            "('20', 104)\n",
            "('22', 103)\n",
            "('24', 103)\n",
            "\n",
            "-----Power Ball-----\n",
            "(9, 49)\n",
            "(4, 46)\n",
            "(6, 46)\n",
            "(7, 45)\n",
            "(11, 45)\n",
            "(15, 45)\n",
            "(1, 42)\n",
            "(13, 41)\n",
            "(2, 38)\n",
            "(10, 37)\n"
          ]
        }
      ]
    },
    {
      "cell_type": "code",
      "source": [
        "df_print = df.query(\"year == 2022\")\n",
        "\n",
        "print('-----Numbers-----')\n",
        "for i in get_nums(df_print, n=10):\n",
        "  print(i)\n",
        "\n",
        "print('\\n-----Power Ball-----')\n",
        "for i in get_pb(df_print, n=10):\n",
        "  print(i)"
      ],
      "metadata": {
        "colab": {
          "base_uri": "https://localhost:8080/"
        },
        "id": "Vebeda31GaMt",
        "outputId": "0e97badb-9f17-4576-9c93-b0001b3fc407"
      },
      "execution_count": 10,
      "outputs": [
        {
          "output_type": "stream",
          "name": "stdout",
          "text": [
            "-----Numbers-----\n",
            "('38', 16)\n",
            "('15', 12)\n",
            "('07', 12)\n",
            "('64', 12)\n",
            "('03', 11)\n",
            "('06', 11)\n",
            "('21', 11)\n",
            "('16', 11)\n",
            "('11', 11)\n",
            "('08', 10)\n",
            "\n",
            "-----Power Ball-----\n",
            "(24, 7)\n",
            "(17, 6)\n",
            "(18, 6)\n",
            "(22, 6)\n",
            "(25, 6)\n",
            "(6, 5)\n",
            "(13, 5)\n",
            "(2, 5)\n",
            "(21, 5)\n",
            "(11, 4)\n"
          ]
        }
      ]
    },
    {
      "cell_type": "code",
      "source": [],
      "metadata": {
        "id": "lyDk8aGpGusg"
      },
      "execution_count": 5,
      "outputs": []
    }
  ]
}